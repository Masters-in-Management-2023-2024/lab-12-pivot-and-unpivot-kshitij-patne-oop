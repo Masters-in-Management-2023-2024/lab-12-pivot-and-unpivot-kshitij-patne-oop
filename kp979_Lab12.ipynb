{
  "nbformat": 4,
  "nbformat_minor": 0,
  "metadata": {
    "colab": {
      "provenance": []
    },
    "kernelspec": {
      "name": "python3",
      "display_name": "Python 3"
    },
    "language_info": {
      "name": "python"
    }
  },
  "cells": [
    {
      "cell_type": "code",
      "execution_count": 5,
      "metadata": {
        "colab": {
          "base_uri": "https://localhost:8080/"
        },
        "id": "kdB3EG3YVywf",
        "outputId": "78e75963-88b9-4909-e9cd-dbc222710aa1"
      },
      "outputs": [
        {
          "output_type": "stream",
          "name": "stdout",
          "text": [
            "shape: (5, 5)\n",
            "┌──────────┬────────────┬──────────┬───────┬──────────┐\n",
            "│ rownames ┆ date       ┆ variable ┆ value ┆ value01  │\n",
            "│ ---      ┆ ---        ┆ ---      ┆ ---   ┆ ---      │\n",
            "│ i64      ┆ str        ┆ str      ┆ f64   ┆ f64      │\n",
            "╞══════════╪════════════╪══════════╪═══════╪══════════╡\n",
            "│ 1        ┆ 1967-07-01 ┆ pce      ┆ 506.7 ┆ 0.0      │\n",
            "│ 2        ┆ 1967-08-01 ┆ pce      ┆ 509.8 ┆ 0.000265 │\n",
            "│ 3        ┆ 1967-09-01 ┆ pce      ┆ 515.6 ┆ 0.000762 │\n",
            "│ 4        ┆ 1967-10-01 ┆ pce      ┆ 512.2 ┆ 0.000471 │\n",
            "│ 5        ┆ 1967-11-01 ┆ pce      ┆ 517.4 ┆ 0.000916 │\n",
            "└──────────┴────────────┴──────────┴───────┴──────────┘\n",
            "['rownames', 'date', 'variable', 'value', 'value01']\n"
          ]
        }
      ],
      "source": [
        "import polars as pl\n",
        "economics_long = pl.read_csv(\"https://raw.githubusercontent.com/philhetzel/opan5510-class12/refs/heads/main/data/economics_long.csv\")\n",
        "print(economics_long.head())\n",
        "print(economics_long.columns)"
      ]
    },
    {
      "cell_type": "code",
      "source": [
        "#Question 1\n",
        "#value_columns = [col for col in economics_long.columns if col not in [\"rownames\", \"date\", 'variable']]\n",
        "#q1a\n",
        "economics_wide = economics_long.pivot(\n",
        "    index=[\"date\"],\n",
        "    on=\"variable\",\n",
        "    values=[\"value\"]\n",
        ")\n",
        "\n",
        "economics_wide"
      ],
      "metadata": {
        "colab": {
          "base_uri": "https://localhost:8080/",
          "height": 443
        },
        "id": "TlSVkpIjWgTY",
        "outputId": "f92ba740-2e9c-4e2f-dd70-7e643fefd2e7"
      },
      "execution_count": 10,
      "outputs": [
        {
          "output_type": "execute_result",
          "data": {
            "text/plain": [
              "shape: (574, 6)\n",
              "┌────────────┬─────────┬────────────┬─────────┬─────────┬──────────┐\n",
              "│ date       ┆ pce     ┆ pop        ┆ psavert ┆ uempmed ┆ unemploy │\n",
              "│ ---        ┆ ---     ┆ ---        ┆ ---     ┆ ---     ┆ ---      │\n",
              "│ str        ┆ f64     ┆ f64        ┆ f64     ┆ f64     ┆ f64      │\n",
              "╞════════════╪═════════╪════════════╪═════════╪═════════╪══════════╡\n",
              "│ 1967-07-01 ┆ 506.7   ┆ 198712.0   ┆ 12.6    ┆ 4.5     ┆ 2944.0   │\n",
              "│ 1967-08-01 ┆ 509.8   ┆ 198911.0   ┆ 12.6    ┆ 4.7     ┆ 2945.0   │\n",
              "│ 1967-09-01 ┆ 515.6   ┆ 199113.0   ┆ 11.9    ┆ 4.6     ┆ 2958.0   │\n",
              "│ 1967-10-01 ┆ 512.2   ┆ 199311.0   ┆ 12.9    ┆ 4.9     ┆ 3143.0   │\n",
              "│ 1967-11-01 ┆ 517.4   ┆ 199498.0   ┆ 12.8    ┆ 4.7     ┆ 3066.0   │\n",
              "│ …          ┆ …       ┆ …          ┆ …       ┆ …       ┆ …        │\n",
              "│ 2014-12-01 ┆ 12062.0 ┆ 319746.157 ┆ 7.6     ┆ 12.9    ┆ 8717.0   │\n",
              "│ 2015-01-01 ┆ 12046.0 ┆ 319928.646 ┆ 7.7     ┆ 13.2    ┆ 8903.0   │\n",
              "│ 2015-02-01 ┆ 12082.4 ┆ 320074.511 ┆ 7.9     ┆ 12.9    ┆ 8610.0   │\n",
              "│ 2015-03-01 ┆ 12158.3 ┆ 320230.786 ┆ 7.4     ┆ 12.0    ┆ 8504.0   │\n",
              "│ 2015-04-01 ┆ 12193.8 ┆ 320402.295 ┆ 7.6     ┆ 11.5    ┆ 8526.0   │\n",
              "└────────────┴─────────┴────────────┴─────────┴─────────┴──────────┘"
            ],
            "text/html": [
              "<div><style>\n",
              ".dataframe > thead > tr,\n",
              ".dataframe > tbody > tr {\n",
              "  text-align: right;\n",
              "  white-space: pre-wrap;\n",
              "}\n",
              "</style>\n",
              "<small>shape: (574, 6)</small><table border=\"1\" class=\"dataframe\"><thead><tr><th>date</th><th>pce</th><th>pop</th><th>psavert</th><th>uempmed</th><th>unemploy</th></tr><tr><td>str</td><td>f64</td><td>f64</td><td>f64</td><td>f64</td><td>f64</td></tr></thead><tbody><tr><td>&quot;1967-07-01&quot;</td><td>506.7</td><td>198712.0</td><td>12.6</td><td>4.5</td><td>2944.0</td></tr><tr><td>&quot;1967-08-01&quot;</td><td>509.8</td><td>198911.0</td><td>12.6</td><td>4.7</td><td>2945.0</td></tr><tr><td>&quot;1967-09-01&quot;</td><td>515.6</td><td>199113.0</td><td>11.9</td><td>4.6</td><td>2958.0</td></tr><tr><td>&quot;1967-10-01&quot;</td><td>512.2</td><td>199311.0</td><td>12.9</td><td>4.9</td><td>3143.0</td></tr><tr><td>&quot;1967-11-01&quot;</td><td>517.4</td><td>199498.0</td><td>12.8</td><td>4.7</td><td>3066.0</td></tr><tr><td>&hellip;</td><td>&hellip;</td><td>&hellip;</td><td>&hellip;</td><td>&hellip;</td><td>&hellip;</td></tr><tr><td>&quot;2014-12-01&quot;</td><td>12062.0</td><td>319746.157</td><td>7.6</td><td>12.9</td><td>8717.0</td></tr><tr><td>&quot;2015-01-01&quot;</td><td>12046.0</td><td>319928.646</td><td>7.7</td><td>13.2</td><td>8903.0</td></tr><tr><td>&quot;2015-02-01&quot;</td><td>12082.4</td><td>320074.511</td><td>7.9</td><td>12.9</td><td>8610.0</td></tr><tr><td>&quot;2015-03-01&quot;</td><td>12158.3</td><td>320230.786</td><td>7.4</td><td>12.0</td><td>8504.0</td></tr><tr><td>&quot;2015-04-01&quot;</td><td>12193.8</td><td>320402.295</td><td>7.6</td><td>11.5</td><td>8526.0</td></tr></tbody></table></div>"
            ]
          },
          "metadata": {},
          "execution_count": 10
        }
      ]
    },
    {
      "cell_type": "code",
      "source": [
        "#q1b\n",
        "median_unemploy = (\n",
        "    economics_wide\n",
        "    .filter(pl.col(\"date\") >= '2010-01-01')\n",
        "    .group_by(\"date\")\n",
        "    .agg(pl.col(\"unemploy\").median().alias(\"median_unemployment\"))\n",
        ")\n",
        "print(f\"The median unemployment for 2010-01-01 and beyond is: {median_unemploy}\")"
      ],
      "metadata": {
        "colab": {
          "base_uri": "https://localhost:8080/"
        },
        "id": "5t3BsRerY6YR",
        "outputId": "e1385c52-7b3f-4cca-e41f-28bb425465a7"
      },
      "execution_count": 14,
      "outputs": [
        {
          "output_type": "stream",
          "name": "stdout",
          "text": [
            "The median unemployment for 2010-01-01 and beyond is: shape: (64, 2)\n",
            "┌────────────┬─────────────────────┐\n",
            "│ date       ┆ median_unemployment │\n",
            "│ ---        ┆ ---                 │\n",
            "│ str        ┆ f64                 │\n",
            "╞════════════╪═════════════════════╡\n",
            "│ 2012-11-01 ┆ 12005.0             │\n",
            "│ 2012-09-01 ┆ 12115.0             │\n",
            "│ 2014-12-01 ┆ 8717.0              │\n",
            "│ 2013-07-01 ┆ 11335.0             │\n",
            "│ 2014-10-01 ┆ 8990.0              │\n",
            "│ …          ┆ …                   │\n",
            "│ 2010-06-01 ┆ 14474.0             │\n",
            "│ 2011-10-01 ┆ 13594.0             │\n",
            "│ 2014-07-01 ┆ 9608.0              │\n",
            "│ 2010-08-01 ┆ 14648.0             │\n",
            "│ 2010-10-01 ┆ 14516.0             │\n",
            "└────────────┴─────────────────────┘\n"
          ]
        }
      ]
    },
    {
      "cell_type": "code",
      "source": [
        "#Question 2\n",
        "air_passengers = pl.read_csv(\"https://raw.githubusercontent.com/philhetzel/opan5510-class12/refs/heads/main/data/AirPassengers.txt\", separator=\"\\t\")\n",
        "\n",
        "air_passengers.head()"
      ],
      "metadata": {
        "colab": {
          "base_uri": "https://localhost:8080/",
          "height": 255
        },
        "id": "rEoCim7Qaaq4",
        "outputId": "44a80a9f-5018-47b0-829c-32604d49b2d5"
      },
      "execution_count": 16,
      "outputs": [
        {
          "output_type": "execute_result",
          "data": {
            "text/plain": [
              "shape: (5, 13)\n",
              "┌──────┬─────┬─────┬─────┬───┬─────┬─────┬─────┬─────┐\n",
              "│ Year ┆ Jan ┆ Feb ┆ Mar ┆ … ┆ Sep ┆ Oct ┆ Nov ┆ Dec │\n",
              "│ ---  ┆ --- ┆ --- ┆ --- ┆   ┆ --- ┆ --- ┆ --- ┆ --- │\n",
              "│ i64  ┆ i64 ┆ i64 ┆ i64 ┆   ┆ i64 ┆ i64 ┆ i64 ┆ i64 │\n",
              "╞══════╪═════╪═════╪═════╪═══╪═════╪═════╪═════╪═════╡\n",
              "│ 1949 ┆ 112 ┆ 118 ┆ 132 ┆ … ┆ 136 ┆ 119 ┆ 104 ┆ 118 │\n",
              "│ 1950 ┆ 115 ┆ 126 ┆ 141 ┆ … ┆ 158 ┆ 133 ┆ 114 ┆ 140 │\n",
              "│ 1951 ┆ 145 ┆ 150 ┆ 178 ┆ … ┆ 184 ┆ 162 ┆ 146 ┆ 166 │\n",
              "│ 1952 ┆ 171 ┆ 180 ┆ 193 ┆ … ┆ 209 ┆ 191 ┆ 172 ┆ 194 │\n",
              "│ 1953 ┆ 196 ┆ 196 ┆ 236 ┆ … ┆ 237 ┆ 211 ┆ 180 ┆ 201 │\n",
              "└──────┴─────┴─────┴─────┴───┴─────┴─────┴─────┴─────┘"
            ],
            "text/html": [
              "<div><style>\n",
              ".dataframe > thead > tr,\n",
              ".dataframe > tbody > tr {\n",
              "  text-align: right;\n",
              "  white-space: pre-wrap;\n",
              "}\n",
              "</style>\n",
              "<small>shape: (5, 13)</small><table border=\"1\" class=\"dataframe\"><thead><tr><th>Year</th><th>Jan</th><th>Feb</th><th>Mar</th><th>Apr</th><th>May</th><th>Jun</th><th>Jul</th><th>Aug</th><th>Sep</th><th>Oct</th><th>Nov</th><th>Dec</th></tr><tr><td>i64</td><td>i64</td><td>i64</td><td>i64</td><td>i64</td><td>i64</td><td>i64</td><td>i64</td><td>i64</td><td>i64</td><td>i64</td><td>i64</td><td>i64</td></tr></thead><tbody><tr><td>1949</td><td>112</td><td>118</td><td>132</td><td>129</td><td>121</td><td>135</td><td>148</td><td>148</td><td>136</td><td>119</td><td>104</td><td>118</td></tr><tr><td>1950</td><td>115</td><td>126</td><td>141</td><td>135</td><td>125</td><td>149</td><td>170</td><td>170</td><td>158</td><td>133</td><td>114</td><td>140</td></tr><tr><td>1951</td><td>145</td><td>150</td><td>178</td><td>163</td><td>172</td><td>178</td><td>199</td><td>199</td><td>184</td><td>162</td><td>146</td><td>166</td></tr><tr><td>1952</td><td>171</td><td>180</td><td>193</td><td>181</td><td>183</td><td>218</td><td>230</td><td>242</td><td>209</td><td>191</td><td>172</td><td>194</td></tr><tr><td>1953</td><td>196</td><td>196</td><td>236</td><td>235</td><td>229</td><td>243</td><td>264</td><td>272</td><td>237</td><td>211</td><td>180</td><td>201</td></tr></tbody></table></div>"
            ]
          },
          "metadata": {},
          "execution_count": 16
        }
      ]
    },
    {
      "cell_type": "code",
      "source": [
        "#q2a\n",
        "month_cols = [col for col in air_passengers.columns if col not in [\"Year\"]]\n",
        "\n",
        "air_passengers_long = air_passengers.unpivot(\n",
        "    index=[\"Year\"],\n",
        "    on=month_cols,\n",
        "    variable_name=\"Month\",\n",
        ").with_columns(pl.col(\"Month\"))\n",
        "\n",
        "air_passengers_long.head(10)"
      ],
      "metadata": {
        "colab": {
          "base_uri": "https://localhost:8080/",
          "height": 411
        },
        "id": "5IOtfovhatVR",
        "outputId": "aa2a3084-2717-4c23-a4c7-baf7956f66bd"
      },
      "execution_count": 21,
      "outputs": [
        {
          "output_type": "execute_result",
          "data": {
            "text/plain": [
              "shape: (10, 3)\n",
              "┌──────┬───────┬───────┐\n",
              "│ Year ┆ Month ┆ value │\n",
              "│ ---  ┆ ---   ┆ ---   │\n",
              "│ i64  ┆ str   ┆ i64   │\n",
              "╞══════╪═══════╪═══════╡\n",
              "│ 1949 ┆ Jan   ┆ 112   │\n",
              "│ 1950 ┆ Jan   ┆ 115   │\n",
              "│ 1951 ┆ Jan   ┆ 145   │\n",
              "│ 1952 ┆ Jan   ┆ 171   │\n",
              "│ 1953 ┆ Jan   ┆ 196   │\n",
              "│ 1954 ┆ Jan   ┆ 204   │\n",
              "│ 1955 ┆ Jan   ┆ 242   │\n",
              "│ 1956 ┆ Jan   ┆ 284   │\n",
              "│ 1957 ┆ Jan   ┆ 315   │\n",
              "│ 1958 ┆ Jan   ┆ 340   │\n",
              "└──────┴───────┴───────┘"
            ],
            "text/html": [
              "<div><style>\n",
              ".dataframe > thead > tr,\n",
              ".dataframe > tbody > tr {\n",
              "  text-align: right;\n",
              "  white-space: pre-wrap;\n",
              "}\n",
              "</style>\n",
              "<small>shape: (10, 3)</small><table border=\"1\" class=\"dataframe\"><thead><tr><th>Year</th><th>Month</th><th>value</th></tr><tr><td>i64</td><td>str</td><td>i64</td></tr></thead><tbody><tr><td>1949</td><td>&quot;Jan&quot;</td><td>112</td></tr><tr><td>1950</td><td>&quot;Jan&quot;</td><td>115</td></tr><tr><td>1951</td><td>&quot;Jan&quot;</td><td>145</td></tr><tr><td>1952</td><td>&quot;Jan&quot;</td><td>171</td></tr><tr><td>1953</td><td>&quot;Jan&quot;</td><td>196</td></tr><tr><td>1954</td><td>&quot;Jan&quot;</td><td>204</td></tr><tr><td>1955</td><td>&quot;Jan&quot;</td><td>242</td></tr><tr><td>1956</td><td>&quot;Jan&quot;</td><td>284</td></tr><tr><td>1957</td><td>&quot;Jan&quot;</td><td>315</td></tr><tr><td>1958</td><td>&quot;Jan&quot;</td><td>340</td></tr></tbody></table></div>"
            ]
          },
          "metadata": {},
          "execution_count": 21
        }
      ]
    },
    {
      "cell_type": "code",
      "source": [
        "#q2b\n",
        "\n",
        "yearly_passengers = (\n",
        "    air_passengers_long\n",
        "    .filter((pl.col(\"Year\") >= 1955) & (pl.col(\"Year\") <= 1960))\n",
        "    .group_by(\"Year\")\n",
        "    .agg(pl.col(\"value\").sum().alias(\"yearly_passengers\"))\n",
        ")\n",
        "\n",
        "std_passengers = (\n",
        "    yearly_passengers\n",
        "    .select(pl.col(\"yearly_passengers\").std().alias(\"std_passengers\"))\n",
        ")\n",
        "print(f\"The standard deviation of airline passengers between 1955 and 1960 is: {std_passengers[0, 'std_passengers']:.2f}\")\n"
      ],
      "metadata": {
        "colab": {
          "base_uri": "https://localhost:8080/"
        },
        "id": "oXckkhU2dQ49",
        "outputId": "e844ec19-4492-43ca-cd98-f29cc0951e8c"
      },
      "execution_count": 35,
      "outputs": [
        {
          "output_type": "stream",
          "name": "stdout",
          "text": [
            "The standard deviation of airline passengers between 1955 and 1960 is: 824.10\n"
          ]
        }
      ]
    },
    {
      "cell_type": "code",
      "source": [
        "#Question 3\n",
        "table2 = pl.read_csv(\"https://raw.githubusercontent.com/philhetzel/opan5510-class12/refs/heads/main/data/table2.csv\")\n",
        "print(\"Original data:\")\n",
        "print(table2)\n"
      ],
      "metadata": {
        "colab": {
          "base_uri": "https://localhost:8080/"
        },
        "id": "IH6hFbongVSK",
        "outputId": "fb51c290-0f23-46e3-d88b-6619aa76bfea"
      },
      "execution_count": 36,
      "outputs": [
        {
          "output_type": "stream",
          "name": "stdout",
          "text": [
            "Original data:\n",
            "shape: (12, 5)\n",
            "┌──────────┬─────────────┬──────┬────────────┬────────────┐\n",
            "│ rownames ┆ country     ┆ year ┆ type       ┆ count      │\n",
            "│ ---      ┆ ---         ┆ ---  ┆ ---        ┆ ---        │\n",
            "│ i64      ┆ str         ┆ i64  ┆ str        ┆ i64        │\n",
            "╞══════════╪═════════════╪══════╪════════════╪════════════╡\n",
            "│ 1        ┆ Afghanistan ┆ 1999 ┆ cases      ┆ 745        │\n",
            "│ 2        ┆ Afghanistan ┆ 1999 ┆ population ┆ 19987071   │\n",
            "│ 3        ┆ Afghanistan ┆ 2000 ┆ cases      ┆ 2666       │\n",
            "│ 4        ┆ Afghanistan ┆ 2000 ┆ population ┆ 20595360   │\n",
            "│ 5        ┆ Brazil      ┆ 1999 ┆ cases      ┆ 37737      │\n",
            "│ …        ┆ …           ┆ …    ┆ …          ┆ …          │\n",
            "│ 8        ┆ Brazil      ┆ 2000 ┆ population ┆ 174504898  │\n",
            "│ 9        ┆ China       ┆ 1999 ┆ cases      ┆ 212258     │\n",
            "│ 10       ┆ China       ┆ 1999 ┆ population ┆ 1272915272 │\n",
            "│ 11       ┆ China       ┆ 2000 ┆ cases      ┆ 213766     │\n",
            "│ 12       ┆ China       ┆ 2000 ┆ population ┆ 1280428583 │\n",
            "└──────────┴─────────────┴──────┴────────────┴────────────┘\n"
          ]
        }
      ]
    },
    {
      "cell_type": "code",
      "source": [
        "#q3a\n",
        "table2_wide = table2.pivot(\n",
        "    index=[\"country\", \"year\"],\n",
        "    on=\"type\",\n",
        "    values=\"count\"\n",
        ")\n",
        "\n",
        "table2_wide"
      ],
      "metadata": {
        "colab": {
          "base_uri": "https://localhost:8080/",
          "height": 286
        },
        "id": "D8hxumq5gkxF",
        "outputId": "bdae5185-c26e-48fd-ddb0-d59e59ee5eca"
      },
      "execution_count": 38,
      "outputs": [
        {
          "output_type": "execute_result",
          "data": {
            "text/plain": [
              "shape: (6, 4)\n",
              "┌─────────────┬──────┬────────┬────────────┐\n",
              "│ country     ┆ year ┆ cases  ┆ population │\n",
              "│ ---         ┆ ---  ┆ ---    ┆ ---        │\n",
              "│ str         ┆ i64  ┆ i64    ┆ i64        │\n",
              "╞═════════════╪══════╪════════╪════════════╡\n",
              "│ Afghanistan ┆ 1999 ┆ 745    ┆ 19987071   │\n",
              "│ Afghanistan ┆ 2000 ┆ 2666   ┆ 20595360   │\n",
              "│ Brazil      ┆ 1999 ┆ 37737  ┆ 172006362  │\n",
              "│ Brazil      ┆ 2000 ┆ 80488  ┆ 174504898  │\n",
              "│ China       ┆ 1999 ┆ 212258 ┆ 1272915272 │\n",
              "│ China       ┆ 2000 ┆ 213766 ┆ 1280428583 │\n",
              "└─────────────┴──────┴────────┴────────────┘"
            ],
            "text/html": [
              "<div><style>\n",
              ".dataframe > thead > tr,\n",
              ".dataframe > tbody > tr {\n",
              "  text-align: right;\n",
              "  white-space: pre-wrap;\n",
              "}\n",
              "</style>\n",
              "<small>shape: (6, 4)</small><table border=\"1\" class=\"dataframe\"><thead><tr><th>country</th><th>year</th><th>cases</th><th>population</th></tr><tr><td>str</td><td>i64</td><td>i64</td><td>i64</td></tr></thead><tbody><tr><td>&quot;Afghanistan&quot;</td><td>1999</td><td>745</td><td>19987071</td></tr><tr><td>&quot;Afghanistan&quot;</td><td>2000</td><td>2666</td><td>20595360</td></tr><tr><td>&quot;Brazil&quot;</td><td>1999</td><td>37737</td><td>172006362</td></tr><tr><td>&quot;Brazil&quot;</td><td>2000</td><td>80488</td><td>174504898</td></tr><tr><td>&quot;China&quot;</td><td>1999</td><td>212258</td><td>1272915272</td></tr><tr><td>&quot;China&quot;</td><td>2000</td><td>213766</td><td>1280428583</td></tr></tbody></table></div>"
            ]
          },
          "metadata": {},
          "execution_count": 38
        }
      ]
    },
    {
      "cell_type": "code",
      "source": [
        "#q3b\n",
        "table2_with_ratio = table2_wide.with_columns(\n",
        "    (pl.col(\"cases\") / pl.col(\"population\")).alias(\"ratio\")\n",
        ")\n",
        "\n",
        "year_1999 = (\n",
        "    table2_with_ratio\n",
        "    .filter(pl.col(\"year\") == 1999)\n",
        "    .sort(\"ratio\", descending=True)\n",
        "\n",
        ")\n",
        "highest_ratio_country = year_1999.head(1)\n",
        "print(\"Data for 1999 with ratios:\")\n",
        "print(year_1999)\n",
        "print(f\"\\nThe country with the highest cases/population ratio in 1999 is: {highest_ratio_country}\")"
      ],
      "metadata": {
        "colab": {
          "base_uri": "https://localhost:8080/"
        },
        "id": "OOwinfjFg8R0",
        "outputId": "d8ec8898-f786-4d19-8a6f-3b3a12a8e768"
      },
      "execution_count": 44,
      "outputs": [
        {
          "output_type": "stream",
          "name": "stdout",
          "text": [
            "Data for 1999 with ratios:\n",
            "shape: (3, 5)\n",
            "┌─────────────┬──────┬────────┬────────────┬──────────┐\n",
            "│ country     ┆ year ┆ cases  ┆ population ┆ ratio    │\n",
            "│ ---         ┆ ---  ┆ ---    ┆ ---        ┆ ---      │\n",
            "│ str         ┆ i64  ┆ i64    ┆ i64        ┆ f64      │\n",
            "╞═════════════╪══════╪════════╪════════════╪══════════╡\n",
            "│ Brazil      ┆ 1999 ┆ 37737  ┆ 172006362  ┆ 0.000219 │\n",
            "│ China       ┆ 1999 ┆ 212258 ┆ 1272915272 ┆ 0.000167 │\n",
            "│ Afghanistan ┆ 1999 ┆ 745    ┆ 19987071   ┆ 0.000037 │\n",
            "└─────────────┴──────┴────────┴────────────┴──────────┘\n",
            "\n",
            "The country with the highest cases/population ratio in 1999 is: shape: (1, 5)\n",
            "┌─────────┬──────┬───────┬────────────┬──────────┐\n",
            "│ country ┆ year ┆ cases ┆ population ┆ ratio    │\n",
            "│ ---     ┆ ---  ┆ ---   ┆ ---        ┆ ---      │\n",
            "│ str     ┆ i64  ┆ i64   ┆ i64        ┆ f64      │\n",
            "╞═════════╪══════╪═══════╪════════════╪══════════╡\n",
            "│ Brazil  ┆ 1999 ┆ 37737 ┆ 172006362  ┆ 0.000219 │\n",
            "└─────────┴──────┴───────┴────────────┴──────────┘\n"
          ]
        }
      ]
    },
    {
      "cell_type": "code",
      "source": [],
      "metadata": {
        "id": "dR5KqMvViKNE"
      },
      "execution_count": null,
      "outputs": []
    }
  ]
}